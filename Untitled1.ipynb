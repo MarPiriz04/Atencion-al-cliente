{
 "cells": [
  {
   "cell_type": "code",
   "execution_count": 9,
   "id": "cbc86dae-36c5-4716-9e95-6bbdf0d1cab4",
   "metadata": {},
   "outputs": [
    {
     "name": "stdout",
     "output_type": "stream",
     "text": [
      "Requirement already satisfied: openai in /opt/miniconda3/lib/python3.12/site-packages (0.28.0)\n",
      "Requirement already satisfied: requests in /opt/miniconda3/lib/python3.12/site-packages (2.32.2)\n",
      "Requirement already satisfied: pillow in /opt/miniconda3/lib/python3.12/site-packages (10.4.0)\n",
      "Requirement already satisfied: tqdm in /opt/miniconda3/lib/python3.12/site-packages (from openai) (4.66.4)\n",
      "Requirement already satisfied: aiohttp in /opt/miniconda3/lib/python3.12/site-packages (from openai) (3.9.5)\n",
      "Requirement already satisfied: charset-normalizer<4,>=2 in /opt/miniconda3/lib/python3.12/site-packages (from requests) (2.0.4)\n",
      "Requirement already satisfied: idna<4,>=2.5 in /opt/miniconda3/lib/python3.12/site-packages (from requests) (3.7)\n",
      "Requirement already satisfied: urllib3<3,>=1.21.1 in /opt/miniconda3/lib/python3.12/site-packages (from requests) (2.2.2)\n",
      "Requirement already satisfied: certifi>=2017.4.17 in /opt/miniconda3/lib/python3.12/site-packages (from requests) (2024.7.4)\n",
      "Requirement already satisfied: aiosignal>=1.1.2 in /opt/miniconda3/lib/python3.12/site-packages (from aiohttp->openai) (1.3.1)\n",
      "Requirement already satisfied: attrs>=17.3.0 in /opt/miniconda3/lib/python3.12/site-packages (from aiohttp->openai) (23.2.0)\n",
      "Requirement already satisfied: frozenlist>=1.1.1 in /opt/miniconda3/lib/python3.12/site-packages (from aiohttp->openai) (1.4.1)\n",
      "Requirement already satisfied: multidict<7.0,>=4.5 in /opt/miniconda3/lib/python3.12/site-packages (from aiohttp->openai) (6.0.5)\n",
      "Requirement already satisfied: yarl<2.0,>=1.0 in /opt/miniconda3/lib/python3.12/site-packages (from aiohttp->openai) (1.9.4)\n"
     ]
    }
   ],
   "source": [
    "!pip install openai requests pillow\n"
   ]
  },
  {
   "cell_type": "code",
   "execution_count": 10,
   "id": "0e913c95-3a21-4ec0-8dd1-6bf6992372d0",
   "metadata": {},
   "outputs": [],
   "source": [
    "import openai\n",
    "import requests\n",
    "from PIL import Image\n",
    "from io import BytesIO"
   ]
  },
  {
   "cell_type": "code",
   "execution_count": 16,
   "id": "10167be5-9b27-427a-a817-2c1d5474c8d1",
   "metadata": {},
   "outputs": [],
   "source": [
    "openai.api_key = 'API-KEY'"
   ]
  },
  {
   "cell_type": "code",
   "execution_count": 17,
   "id": "343de018-cfec-4382-bf56-c8dc5d661926",
   "metadata": {},
   "outputs": [],
   "source": [
    "def generar_respuesta(pregunta):\n",
    "    respuesta = openai.ChatCompletion.create(\n",
    "        model=\"gpt-3.5-turbo\",\n",
    "        messages=[\n",
    "            {\"role\": \"system\", \"content\": \"You are a helpful assistant.\"},\n",
    "            {\"role\": \"user\", \"content\": pregunta}\n",
    "        ]\n",
    "    )\n",
    "    return respuesta['choices'][0]['message']['content'].strip()\n"
   ]
  },
  {
   "cell_type": "code",
   "execution_count": 18,
   "id": "b06bd1a8-7088-4faa-82ed-85bb45e8d4fc",
   "metadata": {},
   "outputs": [],
   "source": [
    "def generar_imagen_simulada(prompt_imagen):\n",
    "    # Simulación de la URL de la imagen generada\n",
    "    image_url = \"https://via.placeholder.com/300x200.png?text=Imagen+Generada\"\n",
    "    \n",
    "    # Descargar y mostrar la imagen simulada\n",
    "    response = requests.get(image_url)\n",
    "    img = Image.open(BytesIO(response.content))\n",
    "    img.show()\n",
    "\n",
    "    # Para propósitos prácticos, devolvemos la URL de la imagen simulada\n",
    "    return image_url\n"
   ]
  },
  {
   "cell_type": "code",
   "execution_count": 19,
   "id": "121fb263-1998-4db2-9604-60280dafcea9",
   "metadata": {},
   "outputs": [],
   "source": [
    "def atencion_automatizada(pregunta, prompt_imagen=None):\n",
    "    respuesta = generar_respuesta(pregunta)\n",
    "    print(\"Respuesta Generada:\")\n",
    "    print(respuesta)\n",
    "    \n",
    "    if prompt_imagen:\n",
    "        print(\"Generando imagen asociada...\")\n",
    "        url_imagen = generar_imagen_simulada(prompt_imagen)\n",
    "        print(f\"Imagen Generada: {url_imagen}\")\n",
    "    else:\n",
    "        print(\"No se generó ninguna imagen.\")\n"
   ]
  },
  {
   "cell_type": "code",
   "execution_count": 20,
   "id": "bfcb2049-f3b3-4e9d-b647-bd6e8de5d278",
   "metadata": {},
   "outputs": [
    {
     "name": "stdout",
     "output_type": "stream",
     "text": [
      "Respuesta Generada:\n",
      "Para cambiar tu contraseña, generalmente deberás seguir estos pasos:\n",
      "\n",
      "1. Inicia sesión en la cuenta donde deseas cambiar la contraseña.\n",
      "2. Busca la sección de configuración de tu cuenta o de seguridad.\n",
      "3. Dentro de la configuración, busca la opción para cambiar la contraseña.\n",
      "4. Es posible que te soliciten ingresar tu contraseña actual como medida de seguridad.\n",
      "5. Luego, podrás ingresar tu nueva contraseña. Asegúrate de crear una contraseña segura, que incluya letras mayúsculas, minúsculas, números y caracteres especiales.\n",
      "6. Una vez ingresada la nueva contraseña, guarda los cambios.\n",
      "\n",
      "Recuerda que es importante mantener tus contraseñas seguras y cambiarlas periódicamente para proteger tus cuentas en línea. Si tienes dudas o necesitas ayuda específica sobre cómo cambiar la contraseña en un servicio o plataforma en particular, ¡no dudes en consultarme!\n",
      "Generando imagen asociada...\n",
      "Imagen Generada: https://via.placeholder.com/300x200.png?text=Imagen+Generada\n"
     ]
    }
   ],
   "source": [
    "# Ejemplo de uso del sistema de atención automatizada\n",
    "pregunta = \"¿Cómo puedo cambiar mi contraseña?\"\n",
    "prompt_imagen = \"Ilustra el proceso de cambio de contraseña en un dispositivo móvil\"\n",
    "\n",
    "# Ejecutar el sistema\n",
    "atencion_automatizada(pregunta, prompt_imagen)\n"
   ]
  },
  {
   "cell_type": "code",
   "execution_count": null,
   "id": "9595870a-cfd2-411e-a17b-42650d202638",
   "metadata": {},
   "outputs": [],
   "source": []
  }
 ],
 "metadata": {
  "kernelspec": {
   "display_name": "Python 3 (ipykernel)",
   "language": "python",
   "name": "python3"
  },
  "language_info": {
   "codemirror_mode": {
    "name": "ipython",
    "version": 3
   },
   "file_extension": ".py",
   "mimetype": "text/x-python",
   "name": "python",
   "nbconvert_exporter": "python",
   "pygments_lexer": "ipython3",
   "version": "3.12.4"
  }
 },
 "nbformat": 4,
 "nbformat_minor": 5
}
