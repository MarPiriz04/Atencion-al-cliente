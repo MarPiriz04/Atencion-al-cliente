{
 "cells": [
  {
   "cell_type": "code",
   "execution_count": 7,
   "id": "1923f94e-29c3-438a-8cd0-69e184fb4c92",
   "metadata": {},
   "outputs": [
    {
     "ename": "ModuleNotFoundError",
     "evalue": "No module named 'openai'",
     "output_type": "error",
     "traceback": [
      "\u001b[0;31m---------------------------------------------------------------------------\u001b[0m",
      "\u001b[0;31mModuleNotFoundError\u001b[0m                       Traceback (most recent call last)",
      "Cell \u001b[0;32mIn[7], line 1\u001b[0m\n\u001b[0;32m----> 1\u001b[0m \u001b[38;5;28;01mimport\u001b[39;00m \u001b[38;5;21;01mopenai\u001b[39;00m \n\u001b[1;32m      2\u001b[0m \u001b[38;5;66;03m# Configura tu clave de API de OpenAI\u001b[39;00m\n\u001b[1;32m      3\u001b[0m openai\u001b[38;5;241m.\u001b[39mapi_key \u001b[38;5;241m=\u001b[39m \u001b[38;5;124m'\u001b[39m\u001b[38;5;124msk-proj-z7Agoc-NifWFc0uEIO-F0ccmvVfnjeH4P2B6A3kh5K32HSbyV6WcaegPYnT3BlbkFJYfkgmRXdGsXicftHkDNhYijaqH_uhGgriU0pu-6-KhZUAu_ySQFHbAQ4oA\u001b[39m\u001b[38;5;124m'\u001b[39m\n",
      "\u001b[0;31mModuleNotFoundError\u001b[0m: No module named 'openai'"
     ]
    }
   ],
   "source": [
    "import openai \n",
    "# Configura tu clave de API de OpenAI\n",
    "openai.api_key = ''"
   ]
  },
  {
   "cell_type": "code",
   "execution_count": 2,
   "id": "0336a52c-68fc-473d-8033-f8db5b3398df",
   "metadata": {},
   "outputs": [
    {
     "name": "stdout",
     "output_type": "stream",
     "text": [
      "Error al generar la respuesta para prompt_1: name 'openai' is not defined\n",
      "Error al generar la respuesta para prompt_2: name 'openai' is not defined\n",
      "Error al generar la respuesta para prompt_3: name 'openai' is not defined\n"
     ]
    }
   ],
   "source": [
    "# Ejemplo de prompt para obtener información del cliente\n",
    "prompt_1 = \"Describe brevemente el inconveniente que estás experimentando con nuestro producto.\"\n",
    "try:\n",
    "    response_1 = openai.Completion.create(\n",
    "        model=\"gpt-4\",\n",
    "        prompt=prompt_1,\n",
    "        max_tokens=100\n",
    "    )\n",
    "    print(response_1.choices[0].text.strip())\n",
    "except Exception as e:\n",
    "    print(f\"Error al generar la respuesta para prompt_1: {e}\")\n",
    "\n",
    "# Ejemplo de prompt para resolver problemas comunes\n",
    "prompt_2 = \"Para resolver problemas de conexión, prueba los siguientes pasos...\"\n",
    "try:\n",
    "    response_2 = openai.Completion.create(\n",
    "        model=\"gpt-4\",\n",
    "        prompt=prompt_2,\n",
    "        max_tokens=100\n",
    "    )\n",
    "    print(response_2.choices[0].text.strip())\n",
    "except Exception as e:\n",
    "    print(f\"Error al generar la respuesta para prompt_2: {e}\")\n",
    "\n",
    "# Ejemplo de prompt para recoger feedback\n",
    "prompt_3 = \"¿Te fue útil la información proporcionada? ¿Te gustaría ser contactado para más ayuda?\"\n",
    "try:\n",
    "    response_3 = openai.Completion.create(\n",
    "        model=\"gpt-4\",\n",
    "        prompt=prompt_3,\n",
    "        max_tokens=100\n",
    "    )\n",
    "    print(response_3.choices[0].text.strip())\n",
    "except Exception as e:\n",
    "    print(f\"Error al generar la respuesta para prompt_3: {e}\")"
   ]
  },
  {
   "cell_type": "code",
   "execution_count": 3,
   "id": "8e36e758-db9f-4f8e-8016-211f8dea0158",
   "metadata": {},
   "outputs": [
    {
     "name": "stdout",
     "output_type": "stream",
     "text": [
      "Error al generar la imagen para prompt_img_1: name 'openai' is not defined\n",
      "Error al generar la imagen para prompt_img_2: name 'openai' is not defined\n",
      "Error al generar la imagen para prompt_img_3: name 'openai' is not defined\n"
     ]
    }
   ],
   "source": [
    "# Ejemplo de prompt para generar una imagen que ilustre cómo reiniciar el router\n",
    "prompt_img_1 = \"Genera una imagen que ilustre cómo reiniciar el router.\"\n",
    "try:\n",
    "    response_img_1 = openai.Image.create(\n",
    "        prompt=prompt_img_1,\n",
    "        n=1,\n",
    "        size=\"512x512\"\n",
    "    )\n",
    "    image_url_1 = response_img_1['data'][0]['url']\n",
    "    print(image_url_1)\n",
    "except Exception as e:\n",
    "    print(f\"Error al generar la imagen para prompt_img_1: {e}\")\n",
    "\n",
    "# Ejemplo de prompt para mostrar un diagrama etiquetado del modelo más reciente de nuestro teléfono\n",
    "prompt_img_2 = \"Muestra un diagrama etiquetado del modelo más reciente de nuestro teléfono.\"\n",
    "try:\n",
    "    response_img_2 = openai.Image.create(\n",
    "        prompt=prompt_img_2,\n",
    "        n=1,\n",
    "        size=\"512x512\"\n",
    "    )\n",
    "    image_url_2 = response_img_2['data'][0]['url']\n",
    "    print(image_url_2)\n",
    "except Exception as e:\n",
    "    print(f\"Error al generar la imagen para prompt_img_2: {e}\")\n",
    "\n",
    "# Ejemplo de prompt para generar una infografía sobre la instalación de la batería en nuestro dispositivo portátil\n",
    "prompt_img_3 = \"Genera una infografía sobre la instalación de la batería en nuestro dispositivo portátil.\"\n",
    "try:\n",
    "    response_img_3 = openai.Image.create(\n",
    "        prompt=prompt_img_3,\n",
    "        n=1,\n",
    "        size=\"512x512\"\n",
    "    )\n",
    "    image_url_3 = response_img_3['data'][0]['url']\n",
    "    print(image_url_3)\n",
    "except Exception as e:\n",
    "    print(f\"Error al generar la imagen para prompt_img_3: {e}\")"
   ]
  },
  {
   "cell_type": "code",
   "execution_count": null,
   "id": "b8864edd-59d8-4f29-b4d9-5895687062c7",
   "metadata": {},
   "outputs": [],
   "source": []
  }
 ],
 "metadata": {
  "kernelspec": {
   "display_name": "Python 3 (ipykernel)",
   "language": "python",
   "name": "python3"
  },
  "language_info": {
   "codemirror_mode": {
    "name": "ipython",
    "version": 3
   },
   "file_extension": ".py",
   "mimetype": "text/x-python",
   "name": "python",
   "nbconvert_exporter": "python",
   "pygments_lexer": "ipython3",
   "version": "3.9.6"
  }
 },
 "nbformat": 4,
 "nbformat_minor": 5
}
